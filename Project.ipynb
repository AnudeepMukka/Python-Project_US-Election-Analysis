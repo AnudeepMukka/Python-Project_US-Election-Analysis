{
 "cells": [
  {
   "cell_type": "markdown",
   "metadata": {},
   "source": [
    "# 2016 US Elections Analysis"
   ]
  },
  {
   "cell_type": "markdown",
   "metadata": {},
   "source": [
    "Importing all the necessary libraries"
   ]
  },
  {
   "cell_type": "code",
   "execution_count": 2,
   "metadata": {},
   "outputs": [],
   "source": [
    "import requests\n",
    "import lxml.html as lh\n",
    "import pandas as pd\n",
    "import numpy as np\n",
    "import matplotlib.pyplot as plt\n",
    "import seaborn as sns\n",
    "from sklearn.linear_model import LinearRegression"
   ]
  },
  {
   "cell_type": "markdown",
   "metadata": {},
   "source": [
    "# Importing Data"
   ]
  },
  {
   "cell_type": "markdown",
   "metadata": {},
   "source": [
    "Reading election data file containing the potential attributes across counties which influenced the voting pattern "
   ]
  },
  {
   "cell_type": "code",
   "execution_count": 14,
   "metadata": {},
   "outputs": [],
   "source": [
    "election_data = pd.read_csv(\"US_Election_Data v0.03ma.csv\")"
   ]
  },
  {
   "cell_type": "markdown",
   "metadata": {},
   "source": [
    "Reading State County file containing mapping of state codes to states"
   ]
  },
  {
   "cell_type": "code",
   "execution_count": 20,
   "metadata": {},
   "outputs": [],
   "source": [
    "State_County = pd.read_csv(\"State_County_DS.csv\")"
   ]
  },
  {
   "cell_type": "markdown",
   "metadata": {},
   "source": [
    "Removing duplicate state records"
   ]
  },
  {
   "cell_type": "code",
   "execution_count": 21,
   "metadata": {},
   "outputs": [],
   "source": [
    "State_County_Unique_Records = State_County.groupby(['State','State_Code'],as_index=False).first()"
   ]
  },
  {
   "cell_type": "markdown",
   "metadata": {},
   "source": [
    "Using Web Scrapping, Collecting Voting Percent of Republic Party and Democratic Party across states and also the total electrol seats won per state"
   ]
  },
  {
   "cell_type": "code",
   "execution_count": 4,
   "metadata": {},
   "outputs": [],
   "source": [
    "url = (\"http://worldpopulationreview.com/states/2016-election-results-by-state/\")"
   ]
  },
  {
   "cell_type": "code",
   "execution_count": 5,
   "metadata": {},
   "outputs": [],
   "source": [
    "page = requests.get(url)"
   ]
  },
  {
   "cell_type": "code",
   "execution_count": 6,
   "metadata": {},
   "outputs": [],
   "source": [
    "doc = lh.fromstring(page.content)"
   ]
  },
  {
   "cell_type": "code",
   "execution_count": 7,
   "metadata": {},
   "outputs": [],
   "source": [
    "table_elements = doc.xpath('//tr')"
   ]
  },
  {
   "cell_type": "code",
   "execution_count": 8,
   "metadata": {},
   "outputs": [],
   "source": [
    "col = []\n",
    "i=0"
   ]
  },
  {
   "cell_type": "code",
   "execution_count": 9,
   "metadata": {},
   "outputs": [],
   "source": [
    "for t in table_elements[0]:\n",
    "    i+=1\n",
    "    name=t.text_content()\n",
    "    col.append((name,[]))"
   ]
  },
  {
   "cell_type": "code",
   "execution_count": 10,
   "metadata": {},
   "outputs": [],
   "source": [
    "for j in range(1,len(table_elements)):\n",
    "    T=table_elements[j]\n",
    "    \n",
    "    i=0\n",
    "    \n",
    "    for t in T.iterchildren():\n",
    "        data=t.text_content() \n",
    "        if i>0:\n",
    "            try:\n",
    "                data=int(data)\n",
    "            except:\n",
    "                pass\n",
    "        col[i][1].append(data)\n",
    "        i+=1"
   ]
  },
  {
   "cell_type": "code",
   "execution_count": 11,
   "metadata": {},
   "outputs": [],
   "source": [
    "Dict={title:column for (title,column) in col}\n",
    "seats_won_per_state=pd.DataFrame(Dict)"
   ]
  },
  {
   "cell_type": "code",
   "execution_count": 12,
   "metadata": {},
   "outputs": [
    {
     "data": {
      "text/html": [
       "<div>\n",
       "<style scoped>\n",
       "    .dataframe tbody tr th:only-of-type {\n",
       "        vertical-align: middle;\n",
       "    }\n",
       "\n",
       "    .dataframe tbody tr th {\n",
       "        vertical-align: top;\n",
       "    }\n",
       "\n",
       "    .dataframe thead th {\n",
       "        text-align: right;\n",
       "    }\n",
       "</style>\n",
       "<table border=\"1\" class=\"dataframe\">\n",
       "  <thead>\n",
       "    <tr style=\"text-align: right;\">\n",
       "      <th></th>\n",
       "      <th>State</th>\n",
       "      <th>Votes (D)</th>\n",
       "      <th>Vote % (D)</th>\n",
       "      <th>Votes (R)</th>\n",
       "      <th>Vote % (R)</th>\n",
       "      <th>Electoral Votes (D)</th>\n",
       "      <th>Electoral Votes (R)</th>\n",
       "      <th>2019 Pop.</th>\n",
       "    </tr>\n",
       "  </thead>\n",
       "  <tbody>\n",
       "    <tr>\n",
       "      <th>0</th>\n",
       "      <td>Alabama</td>\n",
       "      <td>729,547</td>\n",
       "      <td>34.36%</td>\n",
       "      <td>1,318,255</td>\n",
       "      <td>62.08%</td>\n",
       "      <td>0</td>\n",
       "      <td>9</td>\n",
       "      <td>4,898,246</td>\n",
       "    </tr>\n",
       "    <tr>\n",
       "      <th>1</th>\n",
       "      <td>Alaska</td>\n",
       "      <td>116,454</td>\n",
       "      <td>36.55%</td>\n",
       "      <td>163,387</td>\n",
       "      <td>51.28%</td>\n",
       "      <td>0</td>\n",
       "      <td>3</td>\n",
       "      <td>735,720</td>\n",
       "    </tr>\n",
       "    <tr>\n",
       "      <th>2</th>\n",
       "      <td>Arizona</td>\n",
       "      <td>1,161,167</td>\n",
       "      <td>45.13%</td>\n",
       "      <td>1,252,401</td>\n",
       "      <td>48.67%</td>\n",
       "      <td>0</td>\n",
       "      <td>11</td>\n",
       "      <td>7,275,070</td>\n",
       "    </tr>\n",
       "    <tr>\n",
       "      <th>3</th>\n",
       "      <td>Arkansas</td>\n",
       "      <td>380,494</td>\n",
       "      <td>33.65%</td>\n",
       "      <td>684,872</td>\n",
       "      <td>60.57%</td>\n",
       "      <td>0</td>\n",
       "      <td>6</td>\n",
       "      <td>3,026,412</td>\n",
       "    </tr>\n",
       "    <tr>\n",
       "      <th>4</th>\n",
       "      <td>California</td>\n",
       "      <td>8,753,788</td>\n",
       "      <td>61.73%</td>\n",
       "      <td>4,483,810</td>\n",
       "      <td>31.62%</td>\n",
       "      <td>55</td>\n",
       "      <td>0</td>\n",
       "      <td>39,747,267</td>\n",
       "    </tr>\n",
       "  </tbody>\n",
       "</table>\n",
       "</div>"
      ],
      "text/plain": [
       "      State   Votes (D)   Vote % (D)   Votes (R)   Vote % (R)    \\\n",
       "0     Alabama     729,547       34.36%   1,318,255       62.08%   \n",
       "1      Alaska     116,454       36.55%     163,387       51.28%   \n",
       "2     Arizona   1,161,167       45.13%   1,252,401       48.67%   \n",
       "3    Arkansas     380,494       33.65%     684,872       60.57%   \n",
       "4  California   8,753,788       61.73%   4,483,810       31.62%   \n",
       "\n",
       "   Electoral Votes (D)    Electoral Votes (R)   2019 Pop.    \n",
       "0                      0                      9   4,898,246  \n",
       "1                      0                      3     735,720  \n",
       "2                      0                     11   7,275,070  \n",
       "3                      0                      6   3,026,412  \n",
       "4                     55                      0  39,747,267  "
      ]
     },
     "execution_count": 12,
     "metadata": {},
     "output_type": "execute_result"
    }
   ],
   "source": [
    "seats_won_per_state.head()"
   ]
  },
  {
   "cell_type": "markdown",
   "metadata": {},
   "source": [
    "# Cleaning and Merging Data"
   ]
  },
  {
   "cell_type": "markdown",
   "metadata": {},
   "source": [
    "Renaming the column names to remove the spaces in the names"
   ]
  },
  {
   "cell_type": "code",
   "execution_count": 13,
   "metadata": {},
   "outputs": [],
   "source": [
    "seats_won_per_state.columns = ['State','Votes(D)','Vote % (D)','Votes (R)','Vote % (R)','Electoral Votes (D)','Electoral Votes (R)','2019 Pop.']"
   ]
  },
  {
   "cell_type": "markdown",
   "metadata": {},
   "source": [
    "Merging election data with state county dataset to pull state names "
   ]
  },
  {
   "cell_type": "code",
   "execution_count": 23,
   "metadata": {},
   "outputs": [],
   "source": [
    "election_county_state = pd.merge(election_data,State_County_Unique_Records[['State_Code','State']],how = 'left',left_on = 'State',right_on = 'State_Code')"
   ]
  },
  {
   "cell_type": "code",
   "execution_count": 24,
   "metadata": {},
   "outputs": [
    {
     "data": {
      "text/html": [
       "<div>\n",
       "<style scoped>\n",
       "    .dataframe tbody tr th:only-of-type {\n",
       "        vertical-align: middle;\n",
       "    }\n",
       "\n",
       "    .dataframe tbody tr th {\n",
       "        vertical-align: top;\n",
       "    }\n",
       "\n",
       "    .dataframe thead th {\n",
       "        text-align: right;\n",
       "    }\n",
       "</style>\n",
       "<table border=\"1\" class=\"dataframe\">\n",
       "  <thead>\n",
       "    <tr style=\"text-align: right;\">\n",
       "      <th></th>\n",
       "      <th>county</th>\n",
       "      <th>State_x</th>\n",
       "      <th>Population_Estimate</th>\n",
       "      <th>Per_Age_over_65</th>\n",
       "      <th>M_per_100_F</th>\n",
       "      <th>Per_high_school_Degree</th>\n",
       "      <th>Per_Bachelor_Degree</th>\n",
       "      <th>Median_Income</th>\n",
       "      <th>Per_votes_Rep</th>\n",
       "      <th>Party_Gov</th>\n",
       "      <th>Voting_Behaviour</th>\n",
       "      <th>State_Code</th>\n",
       "      <th>State_y</th>\n",
       "    </tr>\n",
       "  </thead>\n",
       "  <tbody>\n",
       "    <tr>\n",
       "      <th>0</th>\n",
       "      <td>Autauga County</td>\n",
       "      <td>AL</td>\n",
       "      <td>55221</td>\n",
       "      <td>0.136</td>\n",
       "      <td>93.9</td>\n",
       "      <td>0.335</td>\n",
       "      <td>0.232</td>\n",
       "      <td>51281</td>\n",
       "      <td>0.73</td>\n",
       "      <td>Rep</td>\n",
       "      <td>Rep</td>\n",
       "      <td>AL</td>\n",
       "      <td>Alabama</td>\n",
       "    </tr>\n",
       "    <tr>\n",
       "      <th>1</th>\n",
       "      <td>Baldwin County</td>\n",
       "      <td>AL</td>\n",
       "      <td>195121</td>\n",
       "      <td>0.181</td>\n",
       "      <td>95.5</td>\n",
       "      <td>0.288</td>\n",
       "      <td>0.290</td>\n",
       "      <td>50254</td>\n",
       "      <td>0.77</td>\n",
       "      <td>Rep</td>\n",
       "      <td>Rep</td>\n",
       "      <td>AL</td>\n",
       "      <td>Alabama</td>\n",
       "    </tr>\n",
       "    <tr>\n",
       "      <th>2</th>\n",
       "      <td>Barbour County</td>\n",
       "      <td>AL</td>\n",
       "      <td>26932</td>\n",
       "      <td>0.161</td>\n",
       "      <td>116.6</td>\n",
       "      <td>0.345</td>\n",
       "      <td>0.125</td>\n",
       "      <td>32964</td>\n",
       "      <td>0.52</td>\n",
       "      <td>Rep</td>\n",
       "      <td>Rep</td>\n",
       "      <td>AL</td>\n",
       "      <td>Alabama</td>\n",
       "    </tr>\n",
       "    <tr>\n",
       "      <th>3</th>\n",
       "      <td>Bibb County</td>\n",
       "      <td>AL</td>\n",
       "      <td>22604</td>\n",
       "      <td>0.144</td>\n",
       "      <td>114.6</td>\n",
       "      <td>0.421</td>\n",
       "      <td>0.107</td>\n",
       "      <td>38678</td>\n",
       "      <td>0.77</td>\n",
       "      <td>Rep</td>\n",
       "      <td>Rep</td>\n",
       "      <td>AL</td>\n",
       "      <td>Alabama</td>\n",
       "    </tr>\n",
       "    <tr>\n",
       "      <th>4</th>\n",
       "      <td>Blount County</td>\n",
       "      <td>AL</td>\n",
       "      <td>57710</td>\n",
       "      <td>0.166</td>\n",
       "      <td>97.7</td>\n",
       "      <td>0.334</td>\n",
       "      <td>0.129</td>\n",
       "      <td>45813</td>\n",
       "      <td>0.90</td>\n",
       "      <td>Rep</td>\n",
       "      <td>Rep</td>\n",
       "      <td>AL</td>\n",
       "      <td>Alabama</td>\n",
       "    </tr>\n",
       "  </tbody>\n",
       "</table>\n",
       "</div>"
      ],
      "text/plain": [
       "           county State_x  Population_Estimate  Per_Age_over_65  M_per_100_F  \\\n",
       "0  Autauga County      AL                55221            0.136         93.9   \n",
       "1  Baldwin County      AL               195121            0.181         95.5   \n",
       "2  Barbour County      AL                26932            0.161        116.6   \n",
       "3     Bibb County      AL                22604            0.144        114.6   \n",
       "4   Blount County      AL                57710            0.166         97.7   \n",
       "\n",
       "   Per_high_school_Degree  Per_Bachelor_Degree  Median_Income  Per_votes_Rep  \\\n",
       "0                   0.335                0.232          51281           0.73   \n",
       "1                   0.288                0.290          50254           0.77   \n",
       "2                   0.345                0.125          32964           0.52   \n",
       "3                   0.421                0.107          38678           0.77   \n",
       "4                   0.334                0.129          45813           0.90   \n",
       "\n",
       "  Party_Gov Voting_Behaviour State_Code  State_y  \n",
       "0       Rep              Rep         AL  Alabama  \n",
       "1       Rep              Rep         AL  Alabama  \n",
       "2       Rep              Rep         AL  Alabama  \n",
       "3       Rep              Rep         AL  Alabama  \n",
       "4       Rep              Rep         AL  Alabama  "
      ]
     },
     "execution_count": 24,
     "metadata": {},
     "output_type": "execute_result"
    }
   ],
   "source": [
    "election_county_state.head()"
   ]
  },
  {
   "cell_type": "markdown",
   "metadata": {},
   "source": [
    "Grouping the election data by states as the further analysis is to be done across states"
   ]
  },
  {
   "cell_type": "code",
   "execution_count": 25,
   "metadata": {},
   "outputs": [],
   "source": [
    "election_data_per_state = election_county_state.groupby('State_y',as_index = False).agg({'Population_Estimate':['sum'],'Per_Age_over_65':['mean'],'M_per_100_F':['mean'],\n",
    "                           'Per_high_school_Degree':['mean'],'Per_Bachelor_Degree':['mean'],'Median_Income':['mean'],\n",
    "                           'Party_Gov':['max']\n",
    "                          })"
   ]
  },
  {
   "cell_type": "code",
   "execution_count": 30,
   "metadata": {},
   "outputs": [],
   "source": [
    "election_data_per_state.columns = election_data_per_state.columns.droplevel(1)"
   ]
  },
  {
   "cell_type": "markdown",
   "metadata": {},
   "source": [
    "Merging election data per state with seats won per state obtained using web scarpping to get vote % across states for various parties"
   ]
  },
  {
   "cell_type": "code",
   "execution_count": 33,
   "metadata": {},
   "outputs": [],
   "source": [
    "election_analysis_data = pd.merge(election_data_per_state,seats_won_per_state,how = 'left',left_on = 'State_y',right_on = 'State')"
   ]
  },
  {
   "cell_type": "markdown",
   "metadata": {},
   "source": [
    "Replacing special characters(%) with null for vote % (D) and vote %(R) columns and converting it to float "
   ]
  },
  {
   "cell_type": "code",
   "execution_count": 35,
   "metadata": {},
   "outputs": [],
   "source": [
    "election_analysis_data['Vote % (D)'] = election_analysis_data['Vote % (D)'].apply(lambda x: x.replace('%',''))"
   ]
  },
  {
   "cell_type": "code",
   "execution_count": 36,
   "metadata": {},
   "outputs": [],
   "source": [
    "election_analysis_data['Vote % (D)'] = election_analysis_data['Vote % (D)'].str.strip().astype(float)"
   ]
  },
  {
   "cell_type": "code",
   "execution_count": 37,
   "metadata": {},
   "outputs": [],
   "source": [
    "election_analysis_data['Vote % (R)'] = election_analysis_data['Vote % (R)'].apply(lambda x: x.replace('%',''))"
   ]
  },
  {
   "cell_type": "code",
   "execution_count": 38,
   "metadata": {},
   "outputs": [],
   "source": [
    "election_analysis_data['Vote % (R)'] = election_analysis_data['Vote % (R)'].str.strip().astype(float)"
   ]
  },
  {
   "cell_type": "markdown",
   "metadata": {},
   "source": [
    "# Melting and Reshaping Data"
   ]
  },
  {
   "cell_type": "markdown",
   "metadata": {},
   "source": [
    "Melting the Electoral Votes(D) and Electoral Votes(R) columns to plot the seat distribution"
   ]
  },
  {
   "cell_type": "code",
   "execution_count": 52,
   "metadata": {},
   "outputs": [],
   "source": [
    "Votes_per_party = election_analysis_data[['Electoral Votes (D)','Electoral Votes (R)']].melt(value_vars = ['Electoral Votes (D)','Electoral Votes (R)'],\n",
    "                                                                          var_name = 'Party',value_name = 'Votes')"
   ]
  },
  {
   "cell_type": "code",
   "execution_count": 65,
   "metadata": {},
   "outputs": [
    {
     "data": {
      "text/html": [
       "<div>\n",
       "<style scoped>\n",
       "    .dataframe tbody tr th:only-of-type {\n",
       "        vertical-align: middle;\n",
       "    }\n",
       "\n",
       "    .dataframe tbody tr th {\n",
       "        vertical-align: top;\n",
       "    }\n",
       "\n",
       "    .dataframe thead th {\n",
       "        text-align: right;\n",
       "    }\n",
       "</style>\n",
       "<table border=\"1\" class=\"dataframe\">\n",
       "  <thead>\n",
       "    <tr style=\"text-align: right;\">\n",
       "      <th></th>\n",
       "      <th>Party</th>\n",
       "      <th>Votes</th>\n",
       "    </tr>\n",
       "  </thead>\n",
       "  <tbody>\n",
       "    <tr>\n",
       "      <th>0</th>\n",
       "      <td>Electoral Votes (D)</td>\n",
       "      <td>0</td>\n",
       "    </tr>\n",
       "    <tr>\n",
       "      <th>1</th>\n",
       "      <td>Electoral Votes (D)</td>\n",
       "      <td>0</td>\n",
       "    </tr>\n",
       "    <tr>\n",
       "      <th>2</th>\n",
       "      <td>Electoral Votes (D)</td>\n",
       "      <td>0</td>\n",
       "    </tr>\n",
       "    <tr>\n",
       "      <th>3</th>\n",
       "      <td>Electoral Votes (D)</td>\n",
       "      <td>0</td>\n",
       "    </tr>\n",
       "    <tr>\n",
       "      <th>4</th>\n",
       "      <td>Electoral Votes (D)</td>\n",
       "      <td>55</td>\n",
       "    </tr>\n",
       "  </tbody>\n",
       "</table>\n",
       "</div>"
      ],
      "text/plain": [
       "                 Party  Votes\n",
       "0  Electoral Votes (D)      0\n",
       "1  Electoral Votes (D)      0\n",
       "2  Electoral Votes (D)      0\n",
       "3  Electoral Votes (D)      0\n",
       "4  Electoral Votes (D)     55"
      ]
     },
     "execution_count": 65,
     "metadata": {},
     "output_type": "execute_result"
    }
   ],
   "source": [
    "Votes_per_party.head()"
   ]
  },
  {
   "cell_type": "code",
   "execution_count": 77,
   "metadata": {},
   "outputs": [
    {
     "data": {
      "image/png": "[encoded data removed]",
      "text/plain": [
       "<Figure size 720x360 with 1 Axes>"
      ]
     },
     "metadata": {
      "needs_background": "light"
     },
     "output_type": "display_data"
    }
   ],
   "source": [
    "plt.figure(figsize = (10,5))\n",
    "sns.barplot(x='Party',y='Votes',data= Votes_per_party,estimator = sum);\n",
    "plt.title(\"Votes Distribution Between Democrats and Republicans\");"
   ]
  },
  {
   "cell_type": "markdown",
   "metadata": {},
   "source": [
    "It is evident from the above plot that republicans have major share of seats"
   ]
  },
  {
   "cell_type": "code",
   "execution_count": 96,
   "metadata": {},
   "outputs": [],
   "source": [
    "def voting_behaviour(row):\n",
    "    if(row['Vote % (D)'] > row['Vote % (R)']):\n",
    "        return 'Democrats'\n",
    "    else:\n",
    "        return 'Republicans'"
   ]
  },
  {
   "cell_type": "code",
   "execution_count": 101,
   "metadata": {},
   "outputs": [],
   "source": [
    "election_analysis_data['voting_behaviour'] = election_analysis_data.apply(voting_behaviour,axis = 1)"
   ]
  },
  {
   "cell_type": "code",
   "execution_count": 102,
   "metadata": {},
   "outputs": [
    {
     "data": {
      "text/html": [
       "<div>\n",
       "<style scoped>\n",
       "    .dataframe tbody tr th:only-of-type {\n",
       "        vertical-align: middle;\n",
       "    }\n",
       "\n",
       "    .dataframe tbody tr th {\n",
       "        vertical-align: top;\n",
       "    }\n",
       "\n",
       "    .dataframe thead th {\n",
       "        text-align: right;\n",
       "    }\n",
       "</style>\n",
       "<table border=\"1\" class=\"dataframe\">\n",
       "  <thead>\n",
       "    <tr style=\"text-align: right;\">\n",
       "      <th></th>\n",
       "      <th>State_y</th>\n",
       "      <th>Population_Estimate</th>\n",
       "      <th>Per_Age_over_65</th>\n",
       "      <th>M_per_100_F</th>\n",
       "      <th>Per_high_school_Degree</th>\n",
       "      <th>Per_Bachelor_Degree</th>\n",
       "      <th>Median_Income</th>\n",
       "      <th>Party_Gov</th>\n",
       "      <th>State</th>\n",
       "      <th>Votes(D)</th>\n",
       "      <th>Vote % (D)</th>\n",
       "      <th>Votes (R)</th>\n",
       "      <th>Vote % (R)</th>\n",
       "      <th>Electoral Votes (D)</th>\n",
       "      <th>Electoral Votes (R)</th>\n",
       "      <th>2019 Pop.</th>\n",
       "      <th>voting_behaviour</th>\n",
       "    </tr>\n",
       "  </thead>\n",
       "  <tbody>\n",
       "    <tr>\n",
       "      <th>0</th>\n",
       "      <td>Alabama</td>\n",
       "      <td>4830620</td>\n",
       "      <td>0.164239</td>\n",
       "      <td>95.050746</td>\n",
       "      <td>0.354627</td>\n",
       "      <td>0.166597</td>\n",
       "      <td>37973.134328</td>\n",
       "      <td>Rep</td>\n",
       "      <td>Alabama</td>\n",
       "      <td>729,547</td>\n",
       "      <td>34.36</td>\n",
       "      <td>1,318,255</td>\n",
       "      <td>62.08</td>\n",
       "      <td>0</td>\n",
       "      <td>9</td>\n",
       "      <td>4,898,246</td>\n",
       "      <td>Republicans</td>\n",
       "    </tr>\n",
       "    <tr>\n",
       "      <th>1</th>\n",
       "      <td>Alaska</td>\n",
       "      <td>733375</td>\n",
       "      <td>0.095793</td>\n",
       "      <td>120.003448</td>\n",
       "      <td>0.338862</td>\n",
       "      <td>0.215690</td>\n",
       "      <td>64197.103448</td>\n",
       "      <td>Independent</td>\n",
       "      <td>Alaska</td>\n",
       "      <td>116,454</td>\n",
       "      <td>36.55</td>\n",
       "      <td>163,387</td>\n",
       "      <td>51.28</td>\n",
       "      <td>0</td>\n",
       "      <td>3</td>\n",
       "      <td>735,720</td>\n",
       "      <td>Republicans</td>\n",
       "    </tr>\n",
       "    <tr>\n",
       "      <th>2</th>\n",
       "      <td>Arizona</td>\n",
       "      <td>6641928</td>\n",
       "      <td>0.183267</td>\n",
       "      <td>101.753333</td>\n",
       "      <td>0.288067</td>\n",
       "      <td>0.190333</td>\n",
       "      <td>43252.200000</td>\n",
       "      <td>Rep</td>\n",
       "      <td>Arizona</td>\n",
       "      <td>1,161,167</td>\n",
       "      <td>45.13</td>\n",
       "      <td>1,252,401</td>\n",
       "      <td>48.67</td>\n",
       "      <td>0</td>\n",
       "      <td>11</td>\n",
       "      <td>7,275,070</td>\n",
       "      <td>Republicans</td>\n",
       "    </tr>\n",
       "    <tr>\n",
       "      <th>3</th>\n",
       "      <td>Arkansas</td>\n",
       "      <td>2958208</td>\n",
       "      <td>0.178920</td>\n",
       "      <td>98.000000</td>\n",
       "      <td>0.394400</td>\n",
       "      <td>0.150240</td>\n",
       "      <td>36626.480000</td>\n",
       "      <td>Rep</td>\n",
       "      <td>Arkansas</td>\n",
       "      <td>380,494</td>\n",
       "      <td>33.65</td>\n",
       "      <td>684,872</td>\n",
       "      <td>60.57</td>\n",
       "      <td>0</td>\n",
       "      <td>6</td>\n",
       "      <td>3,026,412</td>\n",
       "      <td>Republicans</td>\n",
       "    </tr>\n",
       "    <tr>\n",
       "      <th>4</th>\n",
       "      <td>California</td>\n",
       "      <td>38421464</td>\n",
       "      <td>0.154172</td>\n",
       "      <td>103.572414</td>\n",
       "      <td>0.234879</td>\n",
       "      <td>0.257017</td>\n",
       "      <td>56013.155172</td>\n",
       "      <td>Dem</td>\n",
       "      <td>California</td>\n",
       "      <td>8,753,788</td>\n",
       "      <td>61.73</td>\n",
       "      <td>4,483,810</td>\n",
       "      <td>31.62</td>\n",
       "      <td>55</td>\n",
       "      <td>0</td>\n",
       "      <td>39,747,267</td>\n",
       "      <td>Democrats</td>\n",
       "    </tr>\n",
       "  </tbody>\n",
       "</table>\n",
       "</div>"
      ],
      "text/plain": [
       "      State_y  Population_Estimate  Per_Age_over_65  M_per_100_F  \\\n",
       "0     Alabama              4830620         0.164239    95.050746   \n",
       "1      Alaska               733375         0.095793   120.003448   \n",
       "2     Arizona              6641928         0.183267   101.753333   \n",
       "3    Arkansas              2958208         0.178920    98.000000   \n",
       "4  California             38421464         0.154172   103.572414   \n",
       "\n",
       "   Per_high_school_Degree  Per_Bachelor_Degree  Median_Income    Party_Gov  \\\n",
       "0                0.354627             0.166597   37973.134328          Rep   \n",
       "1                0.338862             0.215690   64197.103448  Independent   \n",
       "2                0.288067             0.190333   43252.200000          Rep   \n",
       "3                0.394400             0.150240   36626.480000          Rep   \n",
       "4                0.234879             0.257017   56013.155172          Dem   \n",
       "\n",
       "        State   Votes(D)  Vote % (D)  Votes (R)  Vote % (R)  \\\n",
       "0     Alabama    729,547       34.36  1,318,255       62.08   \n",
       "1      Alaska    116,454       36.55    163,387       51.28   \n",
       "2     Arizona  1,161,167       45.13  1,252,401       48.67   \n",
       "3    Arkansas    380,494       33.65    684,872       60.57   \n",
       "4  California  8,753,788       61.73  4,483,810       31.62   \n",
       "\n",
       "   Electoral Votes (D)  Electoral Votes (R)   2019 Pop. voting_behaviour  \n",
       "0                    0                    9   4,898,246      Republicans  \n",
       "1                    0                    3     735,720      Republicans  \n",
       "2                    0                   11   7,275,070      Republicans  \n",
       "3                    0                    6   3,026,412      Republicans  \n",
       "4                   55                    0  39,747,267        Democrats  "
      ]
     },
     "execution_count": 102,
     "metadata": {},
     "output_type": "execute_result"
    }
   ],
   "source": [
    "election_analysis_data.groupby('voting')"
   ]
  },
  {
   "cell_type": "code",
   "execution_count": 93,
   "metadata": {},
   "outputs": [
    {
     "data": {
      "text/plain": [
       "array([[ 1.        , -0.28215102],\n",
       "       [-0.28215102,  1.        ]])"
      ]
     },
     "execution_count": 93,
     "metadata": {},
     "output_type": "execute_result"
    }
   ],
   "source": [
    "np.corrcoef(election_analysis_data['Vote % (R)'],election_analysis_data['Population_Estimate'])"
   ]
  },
  {
   "cell_type": "code",
   "execution_count": 81,
   "metadata": {},
   "outputs": [
    {
     "data": {
      "text/plain": [
       "Index(['State_y', 'Population_Estimate', 'Per_Age_over_65', 'M_per_100_F',\n",
       "       'Per_high_school_Degree', 'Per_Bachelor_Degree', 'Median_Income',\n",
       "       'Party_Gov', 'State', 'Votes(D)', 'Vote % (D)', 'Votes (R)',\n",
       "       'Vote % (R)', 'Electoral Votes (D)', 'Electoral Votes (R)',\n",
       "       '2019 Pop.'],\n",
       "      dtype='object')"
      ]
     },
     "execution_count": 81,
     "metadata": {},
     "output_type": "execute_result"
    }
   ],
   "source": [
    "election_analysis_data.columns"
   ]
  },
  {
   "cell_type": "code",
   "execution_count": 78,
   "metadata": {},
   "outputs": [
    {
     "data": {
      "text/html": [
       "<div>\n",
       "<style scoped>\n",
       "    .dataframe tbody tr th:only-of-type {\n",
       "        vertical-align: middle;\n",
       "    }\n",
       "\n",
       "    .dataframe tbody tr th {\n",
       "        vertical-align: top;\n",
       "    }\n",
       "\n",
       "    .dataframe thead th {\n",
       "        text-align: right;\n",
       "    }\n",
       "</style>\n",
       "<table border=\"1\" class=\"dataframe\">\n",
       "  <thead>\n",
       "    <tr style=\"text-align: right;\">\n",
       "      <th></th>\n",
       "      <th>State_y</th>\n",
       "      <th>Population_Estimate</th>\n",
       "      <th>Per_Age_over_65</th>\n",
       "      <th>M_per_100_F</th>\n",
       "      <th>Per_high_school_Degree</th>\n",
       "      <th>Per_Bachelor_Degree</th>\n",
       "      <th>Median_Income</th>\n",
       "      <th>Party_Gov</th>\n",
       "      <th>State</th>\n",
       "      <th>Votes(D)</th>\n",
       "      <th>Vote % (D)</th>\n",
       "      <th>Votes (R)</th>\n",
       "      <th>Vote % (R)</th>\n",
       "      <th>Electoral Votes (D)</th>\n",
       "      <th>Electoral Votes (R)</th>\n",
       "      <th>2019 Pop.</th>\n",
       "    </tr>\n",
       "  </thead>\n",
       "  <tbody>\n",
       "    <tr>\n",
       "      <th>0</th>\n",
       "      <td>Alabama</td>\n",
       "      <td>4830620</td>\n",
       "      <td>0.164239</td>\n",
       "      <td>95.050746</td>\n",
       "      <td>0.354627</td>\n",
       "      <td>0.166597</td>\n",
       "      <td>37973.134328</td>\n",
       "      <td>Rep</td>\n",
       "      <td>Alabama</td>\n",
       "      <td>729,547</td>\n",
       "      <td>34.36</td>\n",
       "      <td>1,318,255</td>\n",
       "      <td>62.08</td>\n",
       "      <td>0</td>\n",
       "      <td>9</td>\n",
       "      <td>4,898,246</td>\n",
       "    </tr>\n",
       "    <tr>\n",
       "      <th>1</th>\n",
       "      <td>Alaska</td>\n",
       "      <td>733375</td>\n",
       "      <td>0.095793</td>\n",
       "      <td>120.003448</td>\n",
       "      <td>0.338862</td>\n",
       "      <td>0.215690</td>\n",
       "      <td>64197.103448</td>\n",
       "      <td>Independent</td>\n",
       "      <td>Alaska</td>\n",
       "      <td>116,454</td>\n",
       "      <td>36.55</td>\n",
       "      <td>163,387</td>\n",
       "      <td>51.28</td>\n",
       "      <td>0</td>\n",
       "      <td>3</td>\n",
       "      <td>735,720</td>\n",
       "    </tr>\n",
       "    <tr>\n",
       "      <th>2</th>\n",
       "      <td>Arizona</td>\n",
       "      <td>6641928</td>\n",
       "      <td>0.183267</td>\n",
       "      <td>101.753333</td>\n",
       "      <td>0.288067</td>\n",
       "      <td>0.190333</td>\n",
       "      <td>43252.200000</td>\n",
       "      <td>Rep</td>\n",
       "      <td>Arizona</td>\n",
       "      <td>1,161,167</td>\n",
       "      <td>45.13</td>\n",
       "      <td>1,252,401</td>\n",
       "      <td>48.67</td>\n",
       "      <td>0</td>\n",
       "      <td>11</td>\n",
       "      <td>7,275,070</td>\n",
       "    </tr>\n",
       "    <tr>\n",
       "      <th>3</th>\n",
       "      <td>Arkansas</td>\n",
       "      <td>2958208</td>\n",
       "      <td>0.178920</td>\n",
       "      <td>98.000000</td>\n",
       "      <td>0.394400</td>\n",
       "      <td>0.150240</td>\n",
       "      <td>36626.480000</td>\n",
       "      <td>Rep</td>\n",
       "      <td>Arkansas</td>\n",
       "      <td>380,494</td>\n",
       "      <td>33.65</td>\n",
       "      <td>684,872</td>\n",
       "      <td>60.57</td>\n",
       "      <td>0</td>\n",
       "      <td>6</td>\n",
       "      <td>3,026,412</td>\n",
       "    </tr>\n",
       "    <tr>\n",
       "      <th>4</th>\n",
       "      <td>California</td>\n",
       "      <td>38421464</td>\n",
       "      <td>0.154172</td>\n",
       "      <td>103.572414</td>\n",
       "      <td>0.234879</td>\n",
       "      <td>0.257017</td>\n",
       "      <td>56013.155172</td>\n",
       "      <td>Dem</td>\n",
       "      <td>California</td>\n",
       "      <td>8,753,788</td>\n",
       "      <td>61.73</td>\n",
       "      <td>4,483,810</td>\n",
       "      <td>31.62</td>\n",
       "      <td>55</td>\n",
       "      <td>0</td>\n",
       "      <td>39,747,267</td>\n",
       "    </tr>\n",
       "  </tbody>\n",
       "</table>\n",
       "</div>"
      ],
      "text/plain": [
       "      State_y  Population_Estimate  Per_Age_over_65  M_per_100_F  \\\n",
       "0     Alabama              4830620         0.164239    95.050746   \n",
       "1      Alaska               733375         0.095793   120.003448   \n",
       "2     Arizona              6641928         0.183267   101.753333   \n",
       "3    Arkansas              2958208         0.178920    98.000000   \n",
       "4  California             38421464         0.154172   103.572414   \n",
       "\n",
       "   Per_high_school_Degree  Per_Bachelor_Degree  Median_Income    Party_Gov  \\\n",
       "0                0.354627             0.166597   37973.134328          Rep   \n",
       "1                0.338862             0.215690   64197.103448  Independent   \n",
       "2                0.288067             0.190333   43252.200000          Rep   \n",
       "3                0.394400             0.150240   36626.480000          Rep   \n",
       "4                0.234879             0.257017   56013.155172          Dem   \n",
       "\n",
       "        State   Votes(D)  Vote % (D)  Votes (R)  Vote % (R)  \\\n",
       "0     Alabama    729,547       34.36  1,318,255       62.08   \n",
       "1      Alaska    116,454       36.55    163,387       51.28   \n",
       "2     Arizona  1,161,167       45.13  1,252,401       48.67   \n",
       "3    Arkansas    380,494       33.65    684,872       60.57   \n",
       "4  California  8,753,788       61.73  4,483,810       31.62   \n",
       "\n",
       "   Electoral Votes (D)  Electoral Votes (R)   2019 Pop.  \n",
       "0                    0                    9   4,898,246  \n",
       "1                    0                    3     735,720  \n",
       "2                    0                   11   7,275,070  \n",
       "3                    0                    6   3,026,412  \n",
       "4                   55                    0  39,747,267  "
      ]
     },
     "execution_count": 78,
     "metadata": {},
     "output_type": "execute_result"
    }
   ],
   "source": [
    "election_analysis_data.head()"
   ]
  },
  {
   "cell_type": "code",
   "execution_count": 117,
   "metadata": {},
   "outputs": [],
   "source": [
    "X = election_analysis_data[['Population_Estimate','M_per_100_F','Per_high_school_Degree','Per_Bachelor_Degree','Median_Income']]\n",
    "y = election_analysis_data['Vote % (R)']"
   ]
  },
  {
   "cell_type": "code",
   "execution_count": 111,
   "metadata": {},
   "outputs": [],
   "source": [
    "X = election_analysis_data[['Population_Estimate']]\n",
    "y = election_analysis_data['Vote % (R)']"
   ]
  },
  {
   "cell_type": "code",
   "execution_count": 119,
   "metadata": {},
   "outputs": [],
   "source": [
    "from sklearn.model_selection import train_test_split\n",
    "Xtrain,Xtest,ytrain,ytest = train_test_split(X,y,random_state = 8451)"
   ]
  },
  {
   "cell_type": "code",
   "execution_count": 120,
   "metadata": {},
   "outputs": [],
   "source": [
    "model = LinearRegression(fit_intercept = True)"
   ]
  },
  {
   "cell_type": "code",
   "execution_count": 121,
   "metadata": {},
   "outputs": [
    {
     "data": {
      "text/plain": [
       "LinearRegression(copy_X=True, fit_intercept=True, n_jobs=None, normalize=False)"
      ]
     },
     "execution_count": 121,
     "metadata": {},
     "output_type": "execute_result"
    }
   ],
   "source": [
    "model.fit(Xtrain,ytrain)"
   ]
  },
  {
   "cell_type": "code",
   "execution_count": 122,
   "metadata": {},
   "outputs": [
    {
     "data": {
      "text/plain": [
       "0.5637301234256824"
      ]
     },
     "execution_count": 122,
     "metadata": {},
     "output_type": "execute_result"
    }
   ],
   "source": [
    "model.score(Xtest,ytest)"
   ]
  },
  {
   "cell_type": "code",
   "execution_count": 36,
   "metadata": {},
   "outputs": [],
   "source": [
    "merged_df.to_csv(\"merged_df.csv\",index = False)"
   ]
  },
  {
   "cell_type": "code",
   "execution_count": 75,
   "metadata": {},
   "outputs": [],
   "source": [
    "sns.scatterplot?"
   ]
  },
  {
   "cell_type": "code",
   "execution_count": 132,
   "metadata": {},
   "outputs": [
    {
     "data": {
      "text/plain": [
       "<matplotlib.axes._subplots.AxesSubplot at 0x2a2189fc550>"
      ]
     },
     "execution_count": 132,
     "metadata": {},
     "output_type": "execute_result"
    },
    {
     "data": {
      "image/png": "[encoded data removed]",
      "text/plain": [
       "<Figure size 2160x1440 with 6 Axes>"
      ]
     },
     "metadata": {
      "needs_background": "light"
     },
     "output_type": "display_data"
    }
   ],
   "source": [
    "fig, ax = plt.subplots(2,3 ,figsize=(30,20))\n",
    "sns.scatterplot(x='Population_Estimate', y='Vote % (R)', data = merged_df ,ax=ax[0,0])\n",
    "sns.scatterplot(x='Per_Age_over_65', y='Vote % (R)', data = merged_df ,ax=ax[0,1])\n",
    "sns.scatterplot(x='M_per_100_F', y='Vote % (R)', data = merged_df ,ax=ax[0,2])\n",
    "sns.scatterplot(x='Per_high_school_Degree', y='Vote % (R)', data = merged_df ,ax=ax[1,0])\n",
    "sns.scatterplot(x='Per_Bachelor_Degree', y='Vote % (R)', data = merged_df ,ax=ax[1,1])\n",
    "sns.scatterplot(x='Median_Income', y='Vote % (R)', data = merged_df ,ax=ax[1,2])"
   ]
  },
  {
   "cell_type": "code",
   "execution_count": 133,
   "metadata": {},
   "outputs": [
    {
     "data": {
      "image/png": "[encoded data removed]",
      "text/plain": [
       "<Figure size 2160x1440 with 6 Axes>"
      ]
     },
     "metadata": {
      "needs_background": "light"
     },
     "output_type": "display_data"
    }
   ],
   "source": [
    "fig, ax = plt.subplots(2,3 ,figsize=(30,20));\n",
    "sns.scatterplot(x='Population_Estimate', y='Vote % (D)', data = merged_df ,ax=ax[0,0]);\n",
    "sns.scatterplot(x='Per_Age_over_65', y='Vote % (D)', data = merged_df ,ax=ax[0,1]);\n",
    "sns.scatterplot(x='M_per_100_F', y='Vote % (D)', data = merged_df ,ax=ax[0,2]);\n",
    "sns.scatterplot(x='Per_high_school_Degree', y='Vote % (D)', data = merged_df ,ax=ax[1,0]);\n",
    "sns.scatterplot(x='Per_Bachelor_Degree', y='Vote % (D)', data = merged_df ,ax=ax[1,1]);\n",
    "sns.scatterplot(x='Median_Income', y='Vote % (D)', data = merged_df ,ax=ax[1,2]);"
   ]
  },
  {
   "cell_type": "code",
   "execution_count": null,
   "metadata": {},
   "outputs": [],
   "source": []
  }
 ],
 "metadata": {
  "kernelspec": {
   "display_name": "Python 3",
   "language": "python",
   "name": "python3"
  },
  "language_info": {
   "codemirror_mode": {
    "name": "ipython",
    "version": 3
   },
   "file_extension": ".py",
   "mimetype": "text/x-python",
   "name": "python",
   "nbconvert_exporter": "python",
   "pygments_lexer": "ipython3",
   "version": "3.7.3"
  }
 },
 "nbformat": 4,
 "nbformat_minor": 2
}
